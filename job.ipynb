{
 "cells": [
  {
   "cell_type": "code",
   "id": "initial_id",
   "metadata": {
    "collapsed": true,
    "ExecuteTime": {
     "end_time": "2025-09-15T18:22:07.034491Z",
     "start_time": "2025-09-15T18:21:45.152216Z"
    }
   },
   "source": [
    "import csv\n",
    "from jobspy import scrape_jobs\n",
    "\n",
    "jobs = scrape_jobs(\n",
    "    site_name=[\"linkedin\"], # \"glassdoor\", \"bayt\", \"naukri\", \"bdjobs\" [\"indeed\", \"linkedin\", \"zip_recruiter\", \"google\"],\n",
    "    search_term=\"Devops\",\n",
    "    location=\"tunisia\",\n",
    "    results_wanted=1,\n",
    "    linkedin_fetch_description=True,\n",
    "\n",
    "    # linkedin_fetch_description=True # gets more info such as description, direct job url (slower)\n",
    "    # proxies=[\"208.195.175.46:65095\", \"208.195.175.45:65095\", \"localhost\"],\n",
    ")\n",
    "print(f\"Found {len(jobs)} jobs\")\n",
    "print(jobs.head())\n",
    "jobs.to_csv(\"jobs.csv\", quoting=csv.QUOTE_NONNUMERIC, escapechar=\"\\\\\", index=False) # to_excel"
   ],
   "outputs": [
    {
     "name": "stdout",
     "output_type": "stream",
     "text": [
      "Found 1 jobs\n",
      "              id      site                                        job_url  \\\n",
      "0  li-4283463027  linkedin  https://www.linkedin.com/jobs/view/4283463027   \n",
      "\n",
      "  job_url_direct                                    title             company  \\\n",
      "0           None  Software Developer Internship - Tunisia  Everything To Gain   \n",
      "\n",
      "  location date_posted   job_type salary_source  ... company_addresses  \\\n",
      "0           2025-08-11  temporary          None  ...              None   \n",
      "\n",
      "  company_num_employees company_revenue company_description  skills  \\\n",
      "0                  None            None                None    None   \n",
      "\n",
      "  experience_range company_rating company_reviews_count vacancy_count  \\\n",
      "0             None           None                  None          None   \n",
      "\n",
      "  work_from_home_type  \n",
      "0                None  \n",
      "\n",
      "[1 rows x 34 columns]\n"
     ]
    }
   ],
   "execution_count": 5
  }
 ],
 "metadata": {
  "kernelspec": {
   "display_name": "Python 3",
   "language": "python",
   "name": "python3"
  },
  "language_info": {
   "codemirror_mode": {
    "name": "ipython",
    "version": 2
   },
   "file_extension": ".py",
   "mimetype": "text/x-python",
   "name": "python",
   "nbconvert_exporter": "python",
   "pygments_lexer": "ipython2",
   "version": "2.7.6"
  }
 },
 "nbformat": 4,
 "nbformat_minor": 5
}
