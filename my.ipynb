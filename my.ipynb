{
 "cells": [
  {
   "metadata": {},
   "cell_type": "markdown",
   "source": "### this allows await to run in cells  instead of  async fct",
   "id": "81ee08a4b9833305"
  },
  {
   "metadata": {
    "ExecuteTime": {
     "end_time": "2025-09-25T22:37:40.081448Z",
     "start_time": "2025-09-25T22:37:40.077279Z"
    }
   },
   "cell_type": "code",
   "source": "# %pip install --upgrade ipykernel ipython",
   "id": "87136fb36efa8da4",
   "outputs": [],
   "execution_count": 3
  },
  {
   "metadata": {
    "collapsed": true,
    "ExecuteTime": {
     "end_time": "2025-09-25T22:37:40.359398Z",
     "start_time": "2025-09-25T22:37:40.142801Z"
    }
   },
   "cell_type": "code",
   "source": [
    "SEARCH_KEYWORDS = \"Site Reliability Engineer\"\n",
    "LOCATION = \"Canada\"\n",
    "\n",
    "JOB_SEARCH_PAGE_URL = \"https://www.linkedin.com/jobs/search\"\n",
    "JOB_SEARCH_API_URL = \"https://www.linkedin.com/jobs-guest/jobs/api/seeMoreJobPostings/search\"\n",
    "import asyncio\n",
    "from curl_cffi.requests import AsyncSession\n",
    "from bs4 import BeautifulSoup, Tag\n"
   ],
   "id": "initial_id",
   "outputs": [],
   "execution_count": 4
  },
  {
   "metadata": {},
   "cell_type": "markdown",
   "source": "# this fction extracts the job info from the html card",
   "id": "609407d012db1374"
  },
  {
   "metadata": {
    "ExecuteTime": {
     "end_time": "2025-09-25T22:37:40.391341Z",
     "start_time": "2025-09-25T22:37:40.385074Z"
    }
   },
   "cell_type": "code",
   "source": [
    "\n",
    "def parse_job_card(job_card: Tag):\n",
    "    href_tag = job_card.find(\"a\", class_=\"base-card__full-link\")\n",
    "    job_url = href_tag[\"href\"].split(\"?\")[0] if href_tag else None\n",
    "    job_id = job_url.split(\"-\")[-1] if job_url else None\n",
    "\n",
    "    title_tag = job_card.find(\"span\", class_=\"sr-only\")\n",
    "    title = title_tag.get_text(strip=True) if title_tag else None\n",
    "\n",
    "    company_tag = job_card.find(\"h4\", class_=\"base-search-card__subtitle\")\n",
    "    company = company_tag.get_text(strip=True) if company_tag else None\n",
    "\n",
    "    location_tag = job_card.find(\"span\", class_=\"job-search-card__location\")\n",
    "    location = location_tag.get_text(strip=True) if location_tag else None\n",
    "\n",
    "    datetime_tag = job_card.find(\"time\", class_=\"job-search-card__listdate\")\n",
    "    date_posted = datetime_tag[\"datetime\"] if datetime_tag and \"datetime\" in datetime_tag.attrs else None\n",
    "\n",
    "    return {\n",
    "        \"job_id\": job_id,\n",
    "        \"title\": title,\n",
    "        \"company\": company,\n",
    "        \"location\": location,\n",
    "        \"date_posted\": date_posted,\n",
    "        \"job_url\": job_url,\n",
    "    }\n"
   ],
   "id": "169e4a6da809cefa",
   "outputs": [],
   "execution_count": 5
  },
  {
   "metadata": {},
   "cell_type": "markdown",
   "source": "### initialize the session",
   "id": "1d6bf87ebf8f5e8c"
  },
  {
   "metadata": {
    "ExecuteTime": {
     "end_time": "2025-09-25T22:37:40.540084Z",
     "start_time": "2025-09-25T22:37:40.536228Z"
    }
   },
   "cell_type": "code",
   "source": "session = AsyncSession(impersonate=\"chrome120\")",
   "id": "ef920f3798d683e8",
   "outputs": [],
   "execution_count": 6
  },
  {
   "metadata": {},
   "cell_type": "markdown",
   "source": "### we hit the main page first to get the cookies",
   "id": "68d83f3195c22251"
  },
  {
   "metadata": {
    "ExecuteTime": {
     "end_time": "2025-09-25T22:37:42.299349Z",
     "start_time": "2025-09-25T22:37:40.654666Z"
    }
   },
   "cell_type": "code",
   "source": [
    "prime_params = {'keywords': SEARCH_KEYWORDS, 'location': LOCATION}\n",
    "await session.get(JOB_SEARCH_PAGE_URL, params=prime_params)\n",
    "api_params=prime_params\n",
    "\n"
   ],
   "id": "a8595df3ed44b3b2",
   "outputs": [],
   "execution_count": 7
  },
  {
   "metadata": {},
   "cell_type": "markdown",
   "source": "# first request to get the first batch of jobs",
   "id": "406a9fb22f7ff122"
  },
  {
   "metadata": {
    "ExecuteTime": {
     "end_time": "2025-09-25T22:39:07.245901Z",
     "start_time": "2025-09-25T22:39:06.978592Z"
    }
   },
   "cell_type": "code",
   "source": [
    "api_params.update({'start':900000})\n",
    "api_response = await session.get(JOB_SEARCH_API_URL, params=api_params)\n",
    "\n",
    "\n",
    "soup = BeautifulSoup(api_response.text, 'html.parser')\n",
    "job_cards = soup.find_all(\"div\", class_=\"base-search-card\")\n",
    "\n",
    "all_jobs = [parse_job_card(card) for card in job_cards]\n"
   ],
   "id": "c628c8f216972237",
   "outputs": [],
   "execution_count": 13
  },
  {
   "metadata": {},
   "cell_type": "code",
   "outputs": [],
   "execution_count": null,
   "source": [
    "start=0\n",
    "job_list=[]\n",
    "\n",
    "while 1:\n",
    "    api_response = await session.get(JOB_SEARCH_API_URL, params=api_params)\n",
    "    soup = BeautifulSoup(api_response.text, 'html.parser')\n",
    "    job_cards = soup.find_all(\"div\", class_=\"base-search-card\")\n",
    "\n",
    "    all_jobs = [parse_job_card(card) for card in job_cards]\n",
    "    job_list.append(all_jobs)\n",
    "\n",
    "\n",
    "\n",
    "    if api_response.status_code==400: break\n",
    "    else: start+=25\n",
    "\n"
   ],
   "id": "26bdc28d13603f22"
  }
 ],
 "metadata": {
  "kernelspec": {
   "display_name": "Python 3",
   "language": "python",
   "name": "python3"
  },
  "language_info": {
   "codemirror_mode": {
    "name": "ipython",
    "version": 2
   },
   "file_extension": ".py",
   "mimetype": "text/x-python",
   "name": "python",
   "nbconvert_exporter": "python",
   "pygments_lexer": "ipython2",
   "version": "2.7.6"
  }
 },
 "nbformat": 4,
 "nbformat_minor": 5
}
